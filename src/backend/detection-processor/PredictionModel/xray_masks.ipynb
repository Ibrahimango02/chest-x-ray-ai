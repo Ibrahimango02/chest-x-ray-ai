{
 "cells": [
  {
   "cell_type": "code",
   "execution_count": null,
   "metadata": {},
   "outputs": [],
   "source": [
    "%load_ext autoreload\n",
    "%autoreload 2"
   ]
  },
  {
   "cell_type": "code",
   "execution_count": null,
   "metadata": {},
   "outputs": [],
   "source": [
    "import torchvision\n",
    "import torch\n",
    "import pandas as pd\n",
    "import numpy as np\n",
    "import matplotlib.pyplot as plt\n",
    "from glob import glob\n",
    "import os\n",
    "import sys\n",
    "sys.path.insert(0, \"..\")"
   ]
  },
  {
   "cell_type": "code",
   "execution_count": null,
   "metadata": {},
   "outputs": [],
   "source": [
    "import torchxrayvision as xrv"
   ]
  },
  {
   "cell_type": "code",
   "execution_count": null,
   "metadata": {},
   "outputs": [],
   "source": [
    "# dataset_path = \"/home/groups/akshaysc/joecohen/\"\n",
    "dataset_path = \"/src/backend/detection-processor/patient-data/p001/\""
   ]
  },
  {
   "cell_type": "code",
   "execution_count": null,
   "metadata": {},
   "outputs": [],
   "source": [
    "def plot_sample_with_masks(sample, df):\n",
    "\n",
    "    if \"semantic_masks\" in sample:\n",
    "        width = len(sample[\"semantic_masks\"])\n",
    "        fig, axs = plt.subplots(\n",
    "            1, max(2, 1+width), sharey=True, figsize=(3+3*width, 3))\n",
    "        axs[0].imshow(sample[\"img\"][0], cmap=\"Greys_r\")\n",
    "        axs[0].set_title(\"idx:\" + str(sample[\"idx\"]))\n",
    "\n",
    "        for i, patho in enumerate(sample[\"semantic_masks\"].keys()):\n",
    "            axs[i+1].imshow(sample[\"img\"][0], cmap=\"Greys_r\")\n",
    "            axs[i+1].imshow(sample[\"semantic_masks\"][patho][0]+1, alpha=0.5)\n",
    "            axs[i+1].set_title(patho)\n",
    "        plt.show()\n",
    "\n",
    "    if \"pathology_masks\" in sample:\n",
    "        width = len(sample[\"pathology_masks\"])\n",
    "        fig, axs = plt.subplots(\n",
    "            1, max(2, 1+width), sharey=True, figsize=(3+3*width, 3))\n",
    "        axs[0].imshow(sample[\"img\"][0], cmap=\"Greys_r\")\n",
    "        axs[0].set_title(\"idx:\" + str(sample[\"idx\"]))\n",
    "        for i, patho in enumerate(sample[\"pathology_masks\"].keys()):\n",
    "            axs[i+1].imshow(sample[\"img\"][0], cmap=\"Greys_r\")\n",
    "            axs[i+1].imshow(sample[\"pathology_masks\"][patho][0]+1, alpha=0.5)\n",
    "            axs[i+1].set_title(df.pathologies[patho])\n",
    "        plt.show()\n",
    "    pd.DataFrame(sample[\"lab\"], index=df.pathologies)"
   ]
  },
  {
   "cell_type": "code",
   "execution_count": null,
   "metadata": {},
   "outputs": [],
   "source": [
    "# d_nih = xrv.datasets.NIH_Dataset(imgpath=dataset_path + \"/NIH/images-224\",\n",
    "#                                  views=[\"PA\", \"AP\"], unique_patients=False, pathology_masks=True)\n",
    "\n",
    "d_nih = xrv.datasets.NIH_Dataset(imgpath=dataset_path,\n",
    "                                 views=[\"PA\", \"AP\"], unique_patients=False, pathology_masks=True)"
   ]
  },
  {
   "cell_type": "code",
   "execution_count": null,
   "metadata": {},
   "outputs": [],
   "source": [
    "sample = d_nih[614]\n",
    "plot_sample_with_masks(sample, d_nih)"
   ]
  },
  {
   "cell_type": "code",
   "execution_count": null,
   "metadata": {},
   "outputs": [],
   "source": [
    "# subset = d_nih.csv[\"Image Index\"] == \"00000732_005.png\"\n",
    "subset = d_nih.csv[\"Image Index\"] == \"p001_1.jpg\"\n",
    "for idx in np.where(subset)[0][:10]:\n",
    "    plot_sample_with_masks(d_nih[idx], d_nih)"
   ]
  },
  {
   "cell_type": "code",
   "execution_count": null,
   "metadata": {
    "scrolled": false
   },
   "outputs": [],
   "source": [
    "import torchvision\n",
    "import torchvision.transforms\n",
    "transform = torchvision.transforms.Compose(\n",
    "    [xrv.datasets.XRayCenterCrop(), xrv.datasets.XRayResizer(224)])\n",
    "\n",
    "data_transforms = torchvision.transforms.Compose([\n",
    "    xrv.datasets.ToPILImage(),\n",
    "    torchvision.transforms.RandomAffine(\n",
    "        45, translate=(0.15, 0.15), scale=(0.85, 1.15)),\n",
    "    torchvision.transforms.ToTensor()\n",
    "])"
   ]
  },
  {
   "cell_type": "code",
   "execution_count": null,
   "metadata": {},
   "outputs": [],
   "source": [
    "d_nih_aug = xrv.datasets.NIH_Dataset(imgpath=dataset_path + \"/NIH/images-224\",\n",
    "                                     views=[\"PA\", \"AP\"], unique_patients=False, pathology_masks=True,\n",
    "                                     transform=transform,\n",
    "                                     data_aug=data_transforms)"
   ]
  },
  {
   "cell_type": "code",
   "execution_count": null,
   "metadata": {},
   "outputs": [],
   "source": [
    "for i in range(2):\n",
    "    sample = d_nih_aug[614]\n",
    "    plot_sample_with_masks(sample, d_nih_aug)"
   ]
  },
  {
   "cell_type": "code",
   "execution_count": null,
   "metadata": {},
   "outputs": [],
   "source": [
    "# RSNA_Pneumonia_Dataset\n",
    "d_rsna = xrv.datasets.RSNA_Pneumonia_Dataset(imgpath=dataset_path + \"kaggle-pneumonia-jpg/stage_2_train_images_jpg\",\n",
    "                                             views=[\"PA\", \"AP\"],\n",
    "                                             pathology_masks=True)"
   ]
  },
  {
   "cell_type": "code",
   "execution_count": null,
   "metadata": {},
   "outputs": [],
   "source": [
    "d_rsna.csv.has_masks.value_counts()"
   ]
  },
  {
   "cell_type": "code",
   "execution_count": null,
   "metadata": {},
   "outputs": [],
   "source": [
    "for idx in np.where(d_rsna.csv.has_masks)[0][:2]:\n",
    "    plot_sample_with_masks(d_rsna[idx], d_rsna)"
   ]
  },
  {
   "cell_type": "code",
   "execution_count": null,
   "metadata": {},
   "outputs": [],
   "source": [
    "# COVID-19 Dataset\n",
    "d_vin = xrv.datasets.VinBrain_Dataset(imgpath=dataset_path + \"vinbigdata-chest-xray-abnormalities-detection/train\",\n",
    "                                      csvpath=dataset_path + \"vinbigdata-chest-xray-abnormalities-detection/train.csv\",\n",
    "                                      pathology_masks=True,\n",
    "                                      transform=transform)"
   ]
  },
  {
   "cell_type": "code",
   "execution_count": null,
   "metadata": {},
   "outputs": [],
   "source": [
    "np.random.seed(1)\n",
    "for idx in np.random.choice(range(len(d_vin)), 25):\n",
    "    sample = d_vin[idx]\n",
    "    if len(sample[\"pathology_masks\"]) > 0:\n",
    "        plot_sample_with_masks(sample, d_vin)"
   ]
  },
  {
   "cell_type": "code",
   "execution_count": null,
   "metadata": {},
   "outputs": [],
   "source": [
    "# COVID-19 Dataset\n",
    "d_covid = xrv.datasets.COVID19_Dataset(imgpath=dataset_path + \"covid-chestxray-dataset/images\",\n",
    "                                       csvpath=dataset_path + \"covid-chestxray-dataset/metadata.csv\",\n",
    "                                       views=[\"PA\", \"AP\", \"AP Supine\"],\n",
    "                                       semantic_masks=True,\n",
    "                                       transform=transform)"
   ]
  },
  {
   "cell_type": "code",
   "execution_count": null,
   "metadata": {},
   "outputs": [],
   "source": [
    "np.random.seed(0)\n",
    "for idx in np.random.choice(range(len(d_covid)), 8):\n",
    "    sample = d_covid[idx]\n",
    "    if len(sample[\"semantic_masks\"]) > 0:\n",
    "        plot_sample_with_masks(sample, d_covid)"
   ]
  },
  {
   "cell_type": "code",
   "execution_count": null,
   "metadata": {},
   "outputs": [],
   "source": [
    "d_siim = xrv.datasets.SIIM_Pneumothorax_Dataset(\n",
    "    imgpath=dataset_path + \"SIIM_TRAIN_TEST/dicom-images-train/\",\n",
    "    csvpath=dataset_path + \"SIIM_TRAIN_TEST/train-rle.csv\",\n",
    "    transform=transform,\n",
    "    unique_patients=False,\n",
    "    pathology_masks=True,\n",
    ")"
   ]
  },
  {
   "cell_type": "code",
   "execution_count": null,
   "metadata": {},
   "outputs": [],
   "source": [
    "np.random.seed(1)\n",
    "for idx in np.random.choice(range(len(d_siim)), 8):\n",
    "    sample = d_siim[idx]\n",
    "    if len(sample[\"pathology_masks\"]) > 0:\n",
    "        plot_sample_with_masks(sample, d_siim)"
   ]
  }
 ],
 "metadata": {
  "kernelspec": {
   "display_name": "Python 3",
   "language": "python",
   "name": "python3"
  },
  "language_info": {
   "codemirror_mode": {
    "name": "ipython",
    "version": 3
   },
   "file_extension": ".py",
   "mimetype": "text/x-python",
   "name": "python",
   "nbconvert_exporter": "python",
   "pygments_lexer": "ipython3",
   "version": "3.12.1"
  }
 },
 "nbformat": 4,
 "nbformat_minor": 2
}
