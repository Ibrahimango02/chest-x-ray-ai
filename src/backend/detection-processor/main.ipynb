{
 "cells": [
  {
   "cell_type": "code",
   "execution_count": 1,
   "metadata": {},
   "outputs": [],
   "source": [
    "from ImgProcessor.convertDcm2Jpg import convertDcm2Jpg\n",
    "\n",
    "dcmpath = \"patient-data/p001.dcm\"\n",
    "targetpath = 'patient-data/p001.jpg'\n",
    "\n",
    "convertDcm2Jpg(dcmpath, targetpath)"
   ]
  },
  {
   "cell_type": "code",
   "execution_count": 8,
   "metadata": {},
   "outputs": [
    {
     "name": "stdout",
     "output_type": "stream",
     "text": [
      "john doe\n"
     ]
    }
   ],
   "source": [
    "from ImgProcessor.readPatientData import readPatientData\n",
    "\n",
    "csvpath = \"patient-data/p001.csv\"\n",
    "\n",
    "patient001 = readPatientData(csvpath)\n",
    "\n",
    "#print(patient001.at[0, 'PatientName'])"
   ]
  },
  {
   "cell_type": "code",
   "execution_count": 2,
   "metadata": {},
   "outputs": [
    {
     "name": "stdout",
     "output_type": "stream",
     "text": [
      "Warning: Input size (2544x2544) is not the native resolution (224x224) for this model. A resize will be performed but this could impact performance.\n",
      "{'Atelectasis': 0.21017581,\n",
      " 'Cardiomegaly': 0.056692116,\n",
      " 'Pleural_Thickening': 0.5006808,\n",
      " 'Pneumonia': 0.2616243}\n"
     ]
    }
   ],
   "source": [
    "!python PredictionModel/run-pred-model.py patient-data/p001.jpg"
   ]
  },
  {
   "cell_type": "code",
   "execution_count": 2,
   "metadata": {},
   "outputs": [
    {
     "name": "stdout",
     "output_type": "stream",
     "text": [
      "Sample patient data has been saved to: patient-data/p001.csv\n"
     ]
    }
   ],
   "source": [
    "import csv\n",
    "import random\n",
    "import os\n",
    "\n",
    "# Set the number of samples you want in the CSV file\n",
    "num_samples = 1\n",
    "\n",
    "# Specify the path for the CSV file\n",
    "csv_file_path = 'patient-data/p001.csv'\n",
    "\n",
    "# Define CSV header\n",
    "csv_header = ['PatientID', 'PatientName', 'PatientBirthDate', 'PatientSex', 'StudyDate', 'Modality', 'BodyPartExamined']\n",
    "\n",
    "# Generate and write sample patient data to CSV\n",
    "with open(csv_file_path, 'w', newline='') as csv_file:\n",
    "    csv_writer = csv.writer(csv_file)\n",
    "    \n",
    "    # Write the header\n",
    "    csv_writer.writerow(csv_header)\n",
    "\n",
    "    # Generate and write sample data\n",
    "    for _ in range(num_samples):\n",
    "        patient_id = '001'\n",
    "        patient_name = 'john doe'\n",
    "        patient_birthdate = '01-01-1990'\n",
    "        patient_sex = random.choice(['M', 'F'])\n",
    "        study_date = '01-01-2024'\n",
    "        modality = 'CR'  # CR stands for computed radiography (used for X-ray)\n",
    "        body_part_examined = 'CHEST'\n",
    "\n",
    "        # Write the data to the CSV file\n",
    "        csv_writer.writerow([patient_id, patient_name, patient_birthdate, patient_sex, study_date, modality, body_part_examined])\n",
    "\n",
    "print(f\"Sample patient data has been saved to: {csv_file_path}\")\n"
   ]
  }
 ],
 "metadata": {
  "kernelspec": {
   "display_name": "Python 3",
   "language": "python",
   "name": "python3"
  },
  "language_info": {
   "codemirror_mode": {
    "name": "ipython",
    "version": 3
   },
   "file_extension": ".py",
   "mimetype": "text/x-python",
   "name": "python",
   "nbconvert_exporter": "python",
   "pygments_lexer": "ipython3",
   "version": "3.11.4"
  }
 },
 "nbformat": 4,
 "nbformat_minor": 2
}
