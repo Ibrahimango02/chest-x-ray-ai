{
 "cells": [
  {
   "cell_type": "code",
   "execution_count": null,
   "metadata": {},
   "outputs": [],
   "source": [
    "%pip install -r PredictionModel/requirements.txt"
   ]
  },
  {
   "cell_type": "code",
   "execution_count": 1,
   "metadata": {},
   "outputs": [
    {
     "name": "stdout",
     "output_type": "stream",
     "text": [
      "patient p001: patient-data\\p001\n",
      "Warning: Input size (2544x2544) is not the native resolution (224x224) for this model. A resize will be performed but this could impact performance.\n",
      "Warning: Input size (2544x2544) is not the native resolution (224x224) for this model. A resize will be performed but this could impact performance.\n",
      "{'Atelectasis': 0.21498525887727737,\n",
      " 'Cardiomegaly': 0.14202095940709114,\n",
      " 'Pleural_Thickening': 0.3676226958632469,\n",
      " 'Pneumonia': 0.43097905814647675}\n",
      "patient p002: patient-data\\p002\n",
      "Warning: Input size (2544x2544) is not the native resolution (224x224) for this model. A resize will be performed but this could impact performance.\n",
      "Warning: Input size (2544x2544) is not the native resolution (224x224) for this model. A resize will be performed but this could impact performance.\n",
      "{'Atelectasis': 0.17979608476161957,\n",
      " 'Cardiomegaly': 0.17245332896709442,\n",
      " 'Pleural_Thickening': 0.3351752310991287,\n",
      " 'Pneumonia': 0.4001656621694565}\n",
      "patient p003: patient-data\\p003\n",
      "Warning: Input size (2539x2539) is not the native resolution (224x224) for this model. A resize will be performed but this could impact performance.\n",
      "Warning: Input size (2258x2258) is not the native resolution (224x224) for this model. A resize will be performed but this could impact performance.\n",
      "{'Atelectasis': 0.4432849735021591,\n",
      " 'Cardiomegaly': 0.3742854967713356,\n",
      " 'Pleural_Thickening': 0.32515817135572433,\n",
      " 'Pneumonia': 0.5054616332054138}\n",
      "patient p004: patient-data\\p004\n",
      "Warning: Input size (2544x2544) is not the native resolution (224x224) for this model. A resize will be performed but this could impact performance.\n",
      "{'Atelectasis': 0.24015431,\n",
      " 'Cardiomegaly': 0.071538076,\n",
      " 'Pleural_Thickening': 0.20353583,\n",
      " 'Pneumonia': 0.27674294}\n",
      "patient p005: patient-data\\p005\n",
      "Warning: Input size (2544x2544) is not the native resolution (224x224) for this model. A resize will be performed but this could impact performance.\n",
      "Warning: Input size (2544x2544) is not the native resolution (224x224) for this model. A resize will be performed but this could impact performance.\n",
      "Warning: Input size (2544x2544) is not the native resolution (224x224) for this model. A resize will be performed but this could impact performance.\n",
      "{'Atelectasis': 0.6679766873518626,\n",
      " 'Cardiomegaly': 0.5434231907129288,\n",
      " 'Pleural_Thickening': 0.3726285013059775,\n",
      " 'Pneumonia': 0.8030462066332499}\n",
      "patient p006: patient-data\\p006\n",
      "Warning: Input size (2544x2544) is not the native resolution (224x224) for this model. A resize will be performed but this could impact performance.\n",
      "Warning: Input size (2544x2544) is not the native resolution (224x224) for this model. A resize will be performed but this could impact performance.\n",
      "{'Atelectasis': 0.46802014112472534,\n",
      " 'Cardiomegaly': 0.505253255367279,\n",
      " 'Pleural_Thickening': 0.41411425173282623,\n",
      " 'Pneumonia': 0.37558028288185596}\n",
      "patient p007: patient-data\\p007\n",
      "Warning: Input size (2544x2544) is not the native resolution (224x224) for this model. A resize will be performed but this could impact performance.\n",
      "Warning: Input size (2544x2544) is not the native resolution (224x224) for this model. A resize will be performed but this could impact performance.\n",
      "Warning: Input size (2544x2544) is not the native resolution (224x224) for this model. A resize will be performed but this could impact performance.\n",
      "{'Atelectasis': 0.42520169417063397,\n",
      " 'Cardiomegaly': 0.24098130563894907,\n",
      " 'Pleural_Thickening': 0.32835570474465686,\n",
      " 'Pneumonia': 0.49470852315425873}\n",
      "patient p008: patient-data\\p008\n",
      "Warning: Input size (2402x2402) is not the native resolution (224x224) for this model. A resize will be performed but this could impact performance.\n",
      "{'Atelectasis': 0.6152445,\n",
      " 'Cardiomegaly': 0.5605602,\n",
      " 'Pleural_Thickening': 0.5114279,\n",
      " 'Pneumonia': 0.6545578}\n",
      "patient p009: patient-data\\p009\n",
      "Warning: Input size (2544x2544) is not the native resolution (224x224) for this model. A resize will be performed but this could impact performance.\n",
      "Warning: Input size (2544x2544) is not the native resolution (224x224) for this model. A resize will be performed but this could impact performance.\n",
      "{'Atelectasis': 0.5335807800292969,\n",
      " 'Cardiomegaly': 0.4659274220466614,\n",
      " 'Pleural_Thickening': 0.3871217668056488,\n",
      " 'Pneumonia': 0.7967192828655243}\n",
      "patient p010: patient-data\\p010\n",
      "{'Atelectasis': 0.5713885128498077,\n",
      " 'Cardiomegaly': 0.5849142074584961,\n",
      " 'Pleural_Thickening': 0.3014068827033043,\n",
      " 'Pneumonia': 0.5312217622995377}\n"
     ]
    }
   ],
   "source": [
    "#!python PredictionModel/runPredModel.py patient-data/p001/p001.jpg\n",
    "from PredictionModel.runPredModel import scanallxrays\n",
    "import os\n",
    "import pprint\n",
    "\n",
    "pdir = \"patient-data\"\n",
    "for p in os.listdir(pdir):\n",
    "    patient_dir = os.path.join(pdir, p)\n",
    "    print(f\"patient {p}: {patient_dir}\")\n",
    "    pprint.pprint(scanallxrays(patient_dir))"
   ]
  },
  {
   "cell_type": "code",
   "execution_count": null,
   "metadata": {},
   "outputs": [],
   "source": [
    "from PredictionModel.convertDcm import convertall\n",
    "\n",
    "convertall(\"patient-data/p001\")"
   ]
  },
  {
   "cell_type": "code",
   "execution_count": null,
   "metadata": {},
   "outputs": [],
   "source": [
    "from PredictionModel.heatmaps import genheatmap\n",
    "from PredictionModel.runPredModel import diseases\n",
    "\n",
    "\n",
    "img_path = \"patient-data/p001/p001.dcm\"\n",
    "# pathology = 'Atelectasis'\n",
    "\n",
    "for ds in diseases:\n",
    "    print(f\"Disease: {ds}\")\n",
    "    genheatmap(img_path, ds)\n",
    "    break"
   ]
  },
  {
   "cell_type": "code",
   "execution_count": null,
   "metadata": {},
   "outputs": [],
   "source": [
    "from PredictionModel.heatmaps import genheatmappatient\n",
    "\n",
    "patient_path = \"patient-data/p001\"\n",
    "genheatmappatient(patient_path)"
   ]
  }
 ],
 "metadata": {
  "kernelspec": {
   "display_name": "Python 3",
   "language": "python",
   "name": "python3"
  },
  "language_info": {
   "codemirror_mode": {
    "name": "ipython",
    "version": 3
   },
   "file_extension": ".py",
   "mimetype": "text/x-python",
   "name": "python",
   "nbconvert_exporter": "python",
   "pygments_lexer": "ipython3",
   "version": "3.10.4"
  }
 },
 "nbformat": 4,
 "nbformat_minor": 2
}
