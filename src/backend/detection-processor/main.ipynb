{
 "cells": [
  {
   "cell_type": "code",
   "execution_count": null,
   "metadata": {},
   "outputs": [],
   "source": [
    "%pip install -r PredictionModel/requirements.txt"
   ]
  },
  {
   "cell_type": "code",
   "execution_count": null,
   "metadata": {},
   "outputs": [],
   "source": [
    "#!python PredictionModel/runPredModel.py patient-data/p001/p001.jpg\n",
    "from PredictionModel.runPredModel import scanallxrays\n",
    "import os\n",
    "import pprint\n",
    "\n",
    "pdir = \"patient-data\"\n",
    "for p in os.listdir(pdir):\n",
    "    patient_dir = os.path.join(pdir, p)\n",
    "    print(f\"patient {p}: {patient_dir}\")\n",
    "    pprint.pprint(scanallxrays(patient_dir))"
   ]
  },
  {
   "cell_type": "code",
   "execution_count": null,
   "metadata": {},
   "outputs": [],
   "source": [
    "from PredictionModel.convertDcm import convertall\n",
    "\n",
    "convertall(\"patient-data/p001\")"
   ]
  },
  {
   "cell_type": "code",
   "execution_count": 1,
   "metadata": {},
   "outputs": [
    {
     "name": "stdout",
     "output_type": "stream",
     "text": [
      "Disease: Atelectasis\n",
      "Setting XRayResizer engine to cv2 could increase performance.\n",
      "THIS tensor([0.1126], grad_fn=<SelectBackward0>)\n"
     ]
    }
   ],
   "source": [
    "from PredictionModel.heatmaps import genheatmap\n",
    "from PredictionModel.runPredModel import diseases\n",
    "\n",
    "\n",
    "img_path = 'patient-data/p001/p001.dcm'\n",
    "# pathology = 'Atelectasis'\n",
    "\n",
    "for ds in diseases:\n",
    "    print(f\"Disease: {ds}\")\n",
    "    genheatmap(img_path, ds)\n",
    "    break"
   ]
  },
  {
   "cell_type": "code",
   "execution_count": 1,
   "metadata": {},
   "outputs": [
    {
     "name": "stdout",
     "output_type": "stream",
     "text": [
      "Setting XRayResizer engine to cv2 could increase performance.\n",
      "Setting XRayResizer engine to cv2 could increase performance.\n"
     ]
    }
   ],
   "source": [
    "from PredictionModel.heatmaps import genheatmappatient\n",
    "\n",
    "patient_path = 'patient-data/p001'\n",
    "genheatmappatient(patient_path)"
   ]
  }
 ],
 "metadata": {
  "kernelspec": {
   "display_name": "Python 3",
   "language": "python",
   "name": "python3"
  },
  "language_info": {
   "codemirror_mode": {
    "name": "ipython",
    "version": 3
   },
   "file_extension": ".py",
   "mimetype": "text/x-python",
   "name": "python",
   "nbconvert_exporter": "python",
   "pygments_lexer": "ipython3",
   "version": "3.11.4"
  }
 },
 "nbformat": 4,
 "nbformat_minor": 2
}
