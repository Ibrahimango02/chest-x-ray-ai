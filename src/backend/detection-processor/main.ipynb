{
 "cells": [
  {
   "cell_type": "markdown",
   "metadata": {},
   "source": [
    "This file is for testing purposes."
   ]
  },
  {
   "cell_type": "code",
   "execution_count": null,
   "metadata": {},
   "outputs": [],
   "source": [
    "%pip install -r PredictionModel/requirements.txt\n",
    "#pip install requests-toolbelt==0.10.1 & pip install pycryptodome~=3.12.0"
   ]
  },
  {
   "cell_type": "code",
   "execution_count": null,
   "metadata": {},
   "outputs": [],
   "source": [
    "#!python PredictionModel/runPredModel.py patient-data/p001/p001.jpg\n",
    "from PredictionModel.runPredModel import scanallxrays\n",
    "import os\n",
    "import pprint\n",
    "\n",
    "pdir = \"patient-data\"\n",
    "for p in os.listdir(pdir):\n",
    "    patient_dir = os.path.join(pdir, p)\n",
    "    print(f\"patient {p}: {patient_dir}\")\n",
    "    pprint.pprint(scanallxrays(patient_dir))"
   ]
  },
  {
   "cell_type": "code",
   "execution_count": null,
   "metadata": {},
   "outputs": [],
   "source": [
    "from PredictionModel.convertDcm import convertall\n",
    "\n",
    "convertall(\"patient-data/p001\")"
   ]
  },
  {
   "cell_type": "code",
   "execution_count": null,
   "metadata": {},
   "outputs": [],
   "source": [
    "from PredictionModel.heatmaps import genheatmap\n",
    "from PredictionModel.runPredModel import diseases\n",
    "\n",
    "\n",
    "img_path = \"patient-data/p001/p001.dcm\"\n",
    "# pathology = 'Atelectasis'\n",
    "print(genheatmap(img_path))"
   ]
  },
  {
   "cell_type": "code",
   "execution_count": null,
   "metadata": {},
   "outputs": [],
   "source": [
    "from PredictionModel.heatmaps import genheatmappatient\n",
    "\n",
    "patient_path = \"patient-data/p001\"\n",
    "genheatmappatient(patient_path)"
   ]
  },
  {
   "cell_type": "code",
   "execution_count": null,
   "metadata": {},
   "outputs": [],
   "source": [
    "# for testing purposes\n",
    "\n",
    "stats = {'Atelectasis': 0.4432849735021591,\n",
    " 'Cardiomegaly': 0.6742854967713356,\n",
    " 'Pleural_Thickening': 0.32515817135572433,\n",
    " 'Pneumonia': 0.5054616332054138}\n",
    "\n",
    "from PredictionModel.reportsummary import genreport\n",
    "print(genreport(stats))"
   ]
  },
  {
   "cell_type": "code",
   "execution_count": 23,
   "metadata": {},
   "outputs": [
    {
     "name": "stdout",
     "output_type": "stream",
     "text": [
      "Collecting opencv_python\n",
      "  Using cached opencv_python-4.9.0.80-cp37-abi3-win_amd64.whl (38.6 MB)\n",
      "Requirement already satisfied: numpy>=1.19.3 in c:\\python310\\lib\\site-packages (from opencv_python) (1.26.4)\n",
      "Installing collected packages: opencv_python\n",
      "Successfully installed opencv_python-4.9.0.80\n",
      "Note: you may need to restart the kernel to use updated packages.\n"
     ]
    },
    {
     "name": "stderr",
     "output_type": "stream",
     "text": [
      "WARNING: Ignoring invalid distribution -ip (c:\\python310\\lib\\site-packages)\n",
      "WARNING: Ignoring invalid distribution -ip (c:\\python310\\lib\\site-packages)\n",
      "WARNING: Ignoring invalid distribution -ip (c:\\python310\\lib\\site-packages)\n",
      "WARNING: Ignoring invalid distribution -ip (c:\\python310\\lib\\site-packages)\n",
      "WARNING: Ignoring invalid distribution -ip (c:\\python310\\lib\\site-packages)\n",
      "WARNING: Ignoring invalid distribution -ip (c:\\python310\\lib\\site-packages)\n",
      "WARNING: Ignoring invalid distribution -ip (c:\\python310\\lib\\site-packages)\n",
      "WARNING: You are using pip version 22.0.4; however, version 24.0 is available.\n",
      "You should consider upgrading via the 'c:\\Python310\\python.exe -m pip install --upgrade pip' command.\n"
     ]
    }
   ],
   "source": [
    "pip install opencv_python"
   ]
  },
  {
   "cell_type": "code",
   "execution_count": 31,
   "metadata": {},
   "outputs": [
    {
     "name": "stdout",
     "output_type": "stream",
     "text": [
      "3446416\n",
      "String has been saved to txfile.txt successfully.\n"
     ]
    }
   ],
   "source": [
    "import pydicom\n",
    "from PIL import Image\n",
    "import io\n",
    "import base64\n",
    "import cv2\n",
    "\n",
    "from PredictionModel.convertDcm import getimgdata\n",
    "\n",
    "def main():\n",
    "    img_path = \"patient-data/p001/p001.dcm\"\n",
    "\n",
    "    img_array = getimgdata(img_path)\n",
    "    #cv2.imwrite(\"pixx.png\", img_array)\n",
    "    #return\n",
    "\n",
    "    img = Image.fromarray(img_array)\n",
    "\n",
    "    # Create a BytesIO object to hold the image data\n",
    "    img_bytes_io = io.BytesIO()\n",
    "\n",
    "    # Save the PIL Image to the BytesIO object\n",
    "    img.save(img_bytes_io, format='JPEG')\n",
    "\n",
    "    # Reset the pointer to the beginning of the BytesIO object\n",
    "    img_bytes_io.seek(0)\n",
    "\n",
    "    # Read image data from BytesIO object\n",
    "    image_data = img_bytes_io.getvalue()\n",
    "\n",
    "    # Encode image data as base64\n",
    "    base64_image = base64.b64encode(image_data).decode('utf-8')\n",
    "\n",
    "    print(len(base64_image))\n",
    "    \n",
    "    filename = \"txfile.txt\"\n",
    "    try:\n",
    "        with open(filename, 'w') as file:\n",
    "            file.write(base64_image)\n",
    "        print(f'String has been saved to {filename} successfully.')\n",
    "    except Exception as e:\n",
    "        print(f'Error occurred while saving to {filename}: {e}')\n",
    "\n",
    "main()"
   ]
  },
  {
   "cell_type": "code",
   "execution_count": 28,
   "metadata": {},
   "outputs": [],
   "source": [
    "import base64\n",
    "from PIL import Image\n",
    "from io import BytesIO\n",
    "\n",
    "# Read base64-encoded image data from the text file\n",
    "with open(\"txfile.txt\", \"r\") as file:\n",
    "    base64_data = file.read()\n",
    "\n",
    "# Decode base64 data back to bytes\n",
    "image_data = base64.b64decode(base64_data)\n",
    "\n",
    "# Create a PIL Image object from the decoded bytes\n",
    "img = Image.open(BytesIO(image_data))\n",
    "\n",
    "# Display the image (optional)\n",
    "img.show()\n"
   ]
  }
 ],
 "metadata": {
  "kernelspec": {
   "display_name": "Python 3",
   "language": "python",
   "name": "python3"
  },
  "language_info": {
   "codemirror_mode": {
    "name": "ipython",
    "version": 3
   },
   "file_extension": ".py",
   "mimetype": "text/x-python",
   "name": "python",
   "nbconvert_exporter": "python",
   "pygments_lexer": "ipython3",
   "version": "3.10.4"
  }
 },
 "nbformat": 4,
 "nbformat_minor": 2
}
