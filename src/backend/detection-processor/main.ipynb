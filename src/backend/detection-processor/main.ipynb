{
 "cells": [
  {
   "cell_type": "code",
   "execution_count": null,
   "metadata": {},
   "outputs": [],
   "source": [
    "%pip install -r PredictionModel/requirements.txt"
   ]
  },
  {
   "cell_type": "code",
   "execution_count": null,
   "metadata": {},
   "outputs": [],
   "source": [
    "#!python PredictionModel/runPredModel.py patient-data/p001/p001.jpg\n",
    "from PredictionModel.runPredModel import scanallxrays\n",
    "import os\n",
    "import pprint\n",
    "\n",
    "pdir = \"patient-data\"\n",
    "for p in os.listdir(pdir):\n",
    "    patient_dir = os.path.join(pdir, p)\n",
    "    print(f\"patient {p}: {patient_dir}\")\n",
    "    pprint.pprint(scanallxrays(patient_dir))"
   ]
  },
  {
   "cell_type": "code",
   "execution_count": null,
   "metadata": {},
   "outputs": [],
   "source": [
    "from PredictionModel.convertDcm import convertall\n",
    "\n",
    "convertall('patient-data/p001')"
   ]
  }
 ],
 "metadata": {
  "kernelspec": {
   "display_name": "Python 3",
   "language": "python",
   "name": "python3"
  },
  "language_info": {
   "codemirror_mode": {
    "name": "ipython",
    "version": 3
   },
   "file_extension": ".py",
   "mimetype": "text/x-python",
   "name": "python",
   "nbconvert_exporter": "python",
   "pygments_lexer": "ipython3",
   "version": "3.11.4"
  }
 },
 "nbformat": 4,
 "nbformat_minor": 2
}
