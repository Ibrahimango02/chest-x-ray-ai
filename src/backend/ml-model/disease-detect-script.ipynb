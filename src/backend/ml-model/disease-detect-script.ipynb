{
 "cells": [
  {
   "cell_type": "code",
   "execution_count": null,
   "metadata": {},
   "outputs": [],
   "source": [
    "import cv2\n",
    "import pydicom\n",
    "import numpy as np\n",
    "\n",
    "def lin_stretch_img(img, low_prc, high_prc, do_ignore_minmax=True):\n",
    "    \"\"\" \n",
    "    Apply linear \"stretch\" - low_prc percentile goes to 0, \n",
    "    and high_prc percentile goes to 255.\n",
    "    The result is clipped to [0, 255] and converted to np.uint8\n",
    "\n",
    "    Additional feature:\n",
    "    When computing high and low percentiles, ignore the minimum and maximum intensities (assumed to be outliers).\n",
    "    \"\"\"\n",
    "    # For ignoring the outliers, replace them with the median value\n",
    "    if do_ignore_minmax:\n",
    "        tmp_img = img.copy()\n",
    "        med = np.median(img)  # Compute median\n",
    "        tmp_img[img == img.min()] = med\n",
    "        tmp_img[img == img.max()] = med\n",
    "    else:\n",
    "        tmp_img = img\n",
    "\n",
    "    lo, hi = np.percentile(tmp_img, (low_prc, high_prc))  # Example: 1% - Low percentile, 99% - High percentile\n",
    "\n",
    "    if lo == hi:\n",
    "        return np.full(img.shape, 128, np.uint8)  # Protection: return gray image if lo = hi.\n",
    "\n",
    "    stretch_img = (img.astype(float) - lo) * (255/(hi-lo))  # Linear stretch: lo goes to 0, hi to 255.\n",
    "    stretch_img = stretch_img.clip(0, 255).astype(np.uint8)  # Clip range to [0, 255] and convert to uint8\n",
    "    return stretch_img\n",
    "\n",
    "\n",
    "# https://www.visus.com/fileadmin/content/pictures/Downloads/JiveX_DICOME_Viewer/case1.zip\n",
    "ds = pydicom.read_file('inputxray.dcm') # read dicom image\n",
    "img = ds.pixel_array # get image array\n",
    "\n",
    "img = lin_stretch_img(img, 1, 99)  # Apply \"linear stretching\" (lower percentile 1 goes to 0, and percentile 99 to 255).\n",
    "\n",
    "cv2.imwrite('case1_008.jpg', img)"
   ]
  },
  {
   "cell_type": "code",
   "execution_count": null,
   "metadata": {},
   "outputs": [],
   "source": [
    "!python process_image.py case1_008.png"
   ]
  }
 ],
 "metadata": {
  "kernelspec": {
   "display_name": "Python 3",
   "language": "python",
   "name": "python3"
  },
  "language_info": {
   "codemirror_mode": {
    "name": "ipython",
    "version": 3
   },
   "file_extension": ".py",
   "mimetype": "text/x-python",
   "name": "python",
   "nbconvert_exporter": "python",
   "pygments_lexer": "ipython3",
   "version": "3.11.4"
  }
 },
 "nbformat": 4,
 "nbformat_minor": 2
}
